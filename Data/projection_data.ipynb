{
 "cells": [
  {
   "cell_type": "code",
   "execution_count": 15,
   "metadata": {},
   "outputs": [],
   "source": [
    "import numpy as np\n",
    "import pandas as pd\n",
    "from pathlib import Path\n",
    "from sklearn.linear_model import LinearRegression\n",
    "from sklearn.model_selection import train_test_split\n",
    "from sklearn.metrics import mean_squared_error, r2_score"
   ]
  },
  {
   "cell_type": "code",
   "execution_count": 3,
   "metadata": {},
   "outputs": [
    {
     "data": {
      "text/html": [
       "<div>\n",
       "<style scoped>\n",
       "    .dataframe tbody tr th:only-of-type {\n",
       "        vertical-align: middle;\n",
       "    }\n",
       "\n",
       "    .dataframe tbody tr th {\n",
       "        vertical-align: top;\n",
       "    }\n",
       "\n",
       "    .dataframe thead th {\n",
       "        text-align: right;\n",
       "    }\n",
       "</style>\n",
       "<table border=\"1\" class=\"dataframe\">\n",
       "  <thead>\n",
       "    <tr style=\"text-align: right;\">\n",
       "      <th></th>\n",
       "      <th>Unnamed: 0</th>\n",
       "      <th>Year</th>\n",
       "      <th>Mean Nitrous Oxide Concentration</th>\n",
       "      <th>Mean Carbon Dioxide Concentration</th>\n",
       "      <th>Mean Methane Concentration</th>\n",
       "      <th>Earth Surface Temperature Anomaly (land and ocean)</th>\n",
       "    </tr>\n",
       "  </thead>\n",
       "  <tbody>\n",
       "    <tr>\n",
       "      <th>0</th>\n",
       "      <td>0</td>\n",
       "      <td>1964</td>\n",
       "      <td>291.2</td>\n",
       "      <td>319.620000</td>\n",
       "      <td>1260.30</td>\n",
       "      <td>-0.252</td>\n",
       "    </tr>\n",
       "    <tr>\n",
       "      <th>1</th>\n",
       "      <td>1</td>\n",
       "      <td>1967</td>\n",
       "      <td>291.5</td>\n",
       "      <td>322.180000</td>\n",
       "      <td>1284.03</td>\n",
       "      <td>0.000</td>\n",
       "    </tr>\n",
       "    <tr>\n",
       "      <th>2</th>\n",
       "      <td>2</td>\n",
       "      <td>1970</td>\n",
       "      <td>293.8</td>\n",
       "      <td>325.620315</td>\n",
       "      <td>1351.70</td>\n",
       "      <td>0.108</td>\n",
       "    </tr>\n",
       "    <tr>\n",
       "      <th>3</th>\n",
       "      <td>3</td>\n",
       "      <td>1971</td>\n",
       "      <td>294.0</td>\n",
       "      <td>326.320000</td>\n",
       "      <td>1357.20</td>\n",
       "      <td>-0.126</td>\n",
       "    </tr>\n",
       "    <tr>\n",
       "      <th>4</th>\n",
       "      <td>4</td>\n",
       "      <td>1972</td>\n",
       "      <td>295.6</td>\n",
       "      <td>328.742110</td>\n",
       "      <td>1380.10</td>\n",
       "      <td>0.072</td>\n",
       "    </tr>\n",
       "  </tbody>\n",
       "</table>\n",
       "</div>"
      ],
      "text/plain": [
       "   Unnamed: 0  Year  Mean Nitrous Oxide Concentration  \\\n",
       "0           0  1964                             291.2   \n",
       "1           1  1967                             291.5   \n",
       "2           2  1970                             293.8   \n",
       "3           3  1971                             294.0   \n",
       "4           4  1972                             295.6   \n",
       "\n",
       "   Mean Carbon Dioxide Concentration  Mean Methane Concentration  \\\n",
       "0                         319.620000                     1260.30   \n",
       "1                         322.180000                     1284.03   \n",
       "2                         325.620315                     1351.70   \n",
       "3                         326.320000                     1357.20   \n",
       "4                         328.742110                     1380.10   \n",
       "\n",
       "   Earth Surface Temperature Anomaly (land and ocean)  \n",
       "0                                             -0.252   \n",
       "1                                              0.000   \n",
       "2                                              0.108   \n",
       "3                                             -0.126   \n",
       "4                                              0.072   "
      ]
     },
     "execution_count": 3,
     "metadata": {},
     "output_type": "execute_result"
    }
   ],
   "source": [
    "temperature_df = pd.read_csv(\"Merged_Target_EarthTemp.csv\")\n",
    "temperature_df.head()"
   ]
  },
  {
   "cell_type": "code",
   "execution_count": 5,
   "metadata": {},
   "outputs": [],
   "source": [
    "nitrous_oxide_df = temperature_df[['Year', 'Mean Nitrous Oxide Concentration']]\n",
    "carbon_oxide_df = temperature_df[['Year', 'Mean Carbon Dioxide Concentration']]\n",
    "methane_df = temperature_df[['Year', 'Mean Methane Concentration']]"
   ]
  },
  {
   "cell_type": "code",
   "execution_count": 6,
   "metadata": {},
   "outputs": [],
   "source": [
    "n2o_model = LinearRegression()\n",
    "co2_model = LinearRegression()\n",
    "ch4_model = LinearRegression()"
   ]
  },
  {
   "cell_type": "code",
   "execution_count": 21,
   "metadata": {},
   "outputs": [
    {
     "data": {
      "text/plain": [
       "[2020, 2021, 2022, 2023, 2024]"
      ]
     },
     "execution_count": 21,
     "metadata": {},
     "output_type": "execute_result"
    }
   ],
   "source": [
    "year_list = []\n",
    "for i in range(31):\n",
    "    year = 2020 + i\n",
    "    year_list.append(year)\n",
    "year_list[:5]"
   ]
  },
  {
   "cell_type": "code",
   "execution_count": 20,
   "metadata": {},
   "outputs": [
    {
     "data": {
      "text/plain": [
       "array([[2020],\n",
       "       [2021],\n",
       "       [2022],\n",
       "       [2023],\n",
       "       [2024]])"
      ]
     },
     "execution_count": 20,
     "metadata": {},
     "output_type": "execute_result"
    }
   ],
   "source": [
    "X_future = np.array(year_list)\n",
    "X_future = X_future.reshape(-1,1)\n",
    "X_future[:5]"
   ]
  },
  {
   "cell_type": "code",
   "execution_count": 7,
   "metadata": {},
   "outputs": [
    {
     "data": {
      "text/plain": [
       "array([[1964],\n",
       "       [1967],\n",
       "       [1970],\n",
       "       [1971],\n",
       "       [1972]], dtype=int64)"
      ]
     },
     "execution_count": 7,
     "metadata": {},
     "output_type": "execute_result"
    }
   ],
   "source": [
    "#Nitrous Oxide (N2O) model\n",
    "X = nitrous_oxide_df[\"Year\"].values.reshape(-1, 1)\n",
    "\n",
    "# Display sample data\n",
    "X[:5]"
   ]
  },
  {
   "cell_type": "code",
   "execution_count": 8,
   "metadata": {},
   "outputs": [],
   "source": [
    "y = nitrous_oxide_df['Mean Nitrous Oxide Concentration']"
   ]
  },
  {
   "cell_type": "code",
   "execution_count": 9,
   "metadata": {},
   "outputs": [
    {
     "data": {
      "text/plain": [
       "LinearRegression()"
      ]
     },
     "execution_count": 9,
     "metadata": {},
     "output_type": "execute_result"
    }
   ],
   "source": [
    "n2o_model.fit(X, y)"
   ]
  },
  {
   "cell_type": "code",
   "execution_count": 12,
   "metadata": {},
   "outputs": [
    {
     "name": "stdout",
     "output_type": "stream",
     "text": [
      "Nitrous Oxide Model's formula: y = -1187.978698284533 + 0.751828183784963*X\n"
     ]
    }
   ],
   "source": [
    "# Display the nitrous oxide model's best fit line formula\n",
    "print(f\"Nitrous Oxide Model's formula: y = {n2o_model.intercept_} + {n2o_model.coef_[0]}*X\")"
   ]
  },
  {
   "cell_type": "code",
   "execution_count": 13,
   "metadata": {},
   "outputs": [],
   "source": [
    "# Make predictions using the X set\n",
    "predicted_y_values = n2o_model.predict(X)"
   ]
  },
  {
   "cell_type": "code",
   "execution_count": 16,
   "metadata": {},
   "outputs": [
    {
     "name": "stdout",
     "output_type": "stream",
     "text": [
      "The score is 0.993167548002619.\n",
      "The r2 is 0.993167548002619.\n",
      "The mean squared error is 0.9710046046618114.\n",
      "The root mean squared error is 0.9853956589420371.\n",
      "The standard deviation is 11.921265220335567.\n"
     ]
    }
   ],
   "source": [
    "# Compute the metrics for the linear regression model\n",
    "score = n2o_model.score(X, y, sample_weight=None)\n",
    "r2 = r2_score(y, predicted_y_values)\n",
    "mse = mean_squared_error(y, predicted_y_values)\n",
    "rmse = np.sqrt(mse)\n",
    "std = np.std(y)\n",
    "\n",
    "# Print relevant metrics.\n",
    "print(\"Nitrous Oxide Model\")\n",
    "print(f\"The score is {score}.\")\n",
    "print(f\"The r2 is {r2}.\")\n",
    "print(f\"The mean squared error is {mse}.\")\n",
    "print(f\"The root mean squared error is {rmse}.\")\n",
    "print(f\"The standard deviation is {std}.\")"
   ]
  },
  {
   "cell_type": "code",
   "execution_count": 19,
   "metadata": {},
   "outputs": [
    {
     "data": {
      "text/plain": [
       "array([330.71423296, 331.46606114, 332.21788933, 332.96971751,\n",
       "       333.7215457 , 334.47337388, 335.22520206, 335.97703025,\n",
       "       336.72885843, 337.48068662, 338.2325148 , 338.98434298,\n",
       "       339.73617117, 340.48799935, 341.23982753, 341.99165572,\n",
       "       342.7434839 , 343.49531209, 344.24714027, 344.99896845,\n",
       "       345.75079664, 346.50262482, 347.254453  , 348.00628119,\n",
       "       348.75810937, 349.50993756, 350.26176574, 351.01359392,\n",
       "       351.76542211, 352.51725029, 353.26907847])"
      ]
     },
     "execution_count": 19,
     "metadata": {},
     "output_type": "execute_result"
    }
   ],
   "source": [
    "predicted_future_n2o = n2o_model.predict(X_future)\n",
    "predicted_future_n2o"
   ]
  },
  {
   "cell_type": "code",
   "execution_count": 22,
   "metadata": {},
   "outputs": [],
   "source": [
    "y = carbon_oxide_df['Mean Carbon Dioxide Concentration']"
   ]
  },
  {
   "cell_type": "code",
   "execution_count": 23,
   "metadata": {},
   "outputs": [
    {
     "data": {
      "text/plain": [
       "LinearRegression()"
      ]
     },
     "execution_count": 23,
     "metadata": {},
     "output_type": "execute_result"
    }
   ],
   "source": [
    "co2_model.fit(X, y)"
   ]
  },
  {
   "cell_type": "code",
   "execution_count": 25,
   "metadata": {},
   "outputs": [
    {
     "name": "stdout",
     "output_type": "stream",
     "text": [
      "Carbon Dioxide Model's formula: y = -2990.5078644359583 + 1.6812300158583764*X\n"
     ]
    }
   ],
   "source": [
    "# Display carbon dioxide model's best fit line formula\n",
    "print(f\"Carbon Dioxide Model's formula: y = {co2_model.intercept_} + {co2_model.coef_[0]}*X\")"
   ]
  },
  {
   "cell_type": "code",
   "execution_count": 26,
   "metadata": {},
   "outputs": [],
   "source": [
    "# Make predictions using the X set\n",
    "predicted_y_values = co2_model.predict(X)"
   ]
  },
  {
   "cell_type": "code",
   "execution_count": 30,
   "metadata": {},
   "outputs": [
    {
     "name": "stdout",
     "output_type": "stream",
     "text": [
      "Carbon Dioxide Model\n",
      "The score is 0.9829016082807511.\n",
      "The r2 is 0.9829016082807511.\n",
      "The mean squared error is 12.278052990865797.\n",
      "The root mean squared error is 3.5040052783729934.\n",
      "The standard deviation is 26.7970582622817.\n"
     ]
    }
   ],
   "source": [
    "# Compute the metrics for the linear regression model\n",
    "score = co2_model.score(X, y, sample_weight=None)\n",
    "r2 = r2_score(y, predicted_y_values)\n",
    "mse = mean_squared_error(y, predicted_y_values)\n",
    "rmse = np.sqrt(mse)\n",
    "std = np.std(y)\n",
    "\n",
    "# Print releveant metrics.\n",
    "print(\"Carbon Dioxide Model\")\n",
    "print(f\"The score is {score}.\")\n",
    "print(f\"The r2 is {r2}.\")\n",
    "print(f\"The mean squared error is {mse}.\")\n",
    "print(f\"The root mean squared error is {rmse}.\")\n",
    "print(f\"The standard deviation is {std}.\")"
   ]
  },
  {
   "cell_type": "code",
   "execution_count": 29,
   "metadata": {},
   "outputs": [
    {
     "data": {
      "text/plain": [
       "array([405.5767676 , 407.25799761, 408.93922763, 410.62045765,\n",
       "       412.30168766, 413.98291768, 415.66414769, 417.34537771,\n",
       "       419.02660772, 420.70783774, 422.38906776, 424.07029777,\n",
       "       425.75152779, 427.4327578 , 429.11398782, 430.79521784,\n",
       "       432.47644785, 434.15767787, 435.83890788, 437.5201379 ,\n",
       "       439.20136792, 440.88259793, 442.56382795, 444.24505796,\n",
       "       445.92628798, 447.60751799, 449.28874801, 450.96997803,\n",
       "       452.65120804, 454.33243806, 456.01366807])"
      ]
     },
     "execution_count": 29,
     "metadata": {},
     "output_type": "execute_result"
    }
   ],
   "source": [
    "predicted_future_co2 = co2_model.predict(X_future)\n",
    "predicted_future_co2"
   ]
  },
  {
   "cell_type": "code",
   "execution_count": 31,
   "metadata": {},
   "outputs": [],
   "source": [
    "y = methane_df['Mean Methane Concentration']"
   ]
  },
  {
   "cell_type": "code",
   "execution_count": 32,
   "metadata": {},
   "outputs": [
    {
     "data": {
      "text/plain": [
       "LinearRegression()"
      ]
     },
     "execution_count": 32,
     "metadata": {},
     "output_type": "execute_result"
    }
   ],
   "source": [
    "ch4_model.fit(X,y)"
   ]
  },
  {
   "cell_type": "code",
   "execution_count": 33,
   "metadata": {},
   "outputs": [
    {
     "name": "stdout",
     "output_type": "stream",
     "text": [
      "Model's formula: y = -17616.499200086542 + 9.66494528624219*X\n"
     ]
    }
   ],
   "source": [
    "# Display the model's best fit line formula\n",
    "print(f\"Model's formula: y = {ch4_model.intercept_} + {ch4_model.coef_[0]}*X\")"
   ]
  },
  {
   "cell_type": "code",
   "execution_count": 35,
   "metadata": {},
   "outputs": [],
   "source": [
    "predicted_y_values = ch4_model.predict(X)"
   ]
  },
  {
   "cell_type": "code",
   "execution_count": 36,
   "metadata": {},
   "outputs": [
    {
     "name": "stdout",
     "output_type": "stream",
     "text": [
      "The score is 0.8735541908081198.\n",
      "The mean squared error is 3376.3184705964127.\n",
      "The root mean squared error is 58.10609667320988.\n",
      "The standard deviation is 163.40655807256834.\n"
     ]
    }
   ],
   "source": [
    "# Compute the metrics for the linear regression model\n",
    "score = ch4_model.score(X, y, sample_weight=None)\n",
    "mse = mean_squared_error(y, predicted_y_values)\n",
    "rmse = np.sqrt(mse)\n",
    "std = np.std(y)\n",
    "\n",
    "# Print releveant metrics.\n",
    "\n",
    "print(f\"The score is {score}.\")\n",
    "print(f\"The mean squared error is {mse}.\")\n",
    "print(f\"The root mean squared error is {rmse}.\")\n",
    "print(f\"The standard deviation is {std}.\")"
   ]
  },
  {
   "cell_type": "code",
   "execution_count": 37,
   "metadata": {},
   "outputs": [
    {
     "data": {
      "text/plain": [
       "array([1906.69027812, 1916.35522341, 1926.0201687 , 1935.68511398,\n",
       "       1945.35005927, 1955.01500455, 1964.67994984, 1974.34489513,\n",
       "       1984.00984041, 1993.6747857 , 2003.33973099, 2013.00467627,\n",
       "       2022.66962156, 2032.33456684, 2041.99951213, 2051.66445742,\n",
       "       2061.3294027 , 2070.99434799, 2080.65929328, 2090.32423856,\n",
       "       2099.98918385, 2109.65412913, 2119.31907442, 2128.98401971,\n",
       "       2138.64896499, 2148.31391028, 2157.97885556, 2167.64380085,\n",
       "       2177.30874614, 2186.97369142, 2196.63863671])"
      ]
     },
     "execution_count": 37,
     "metadata": {},
     "output_type": "execute_result"
    }
   ],
   "source": [
    "predicted_future_ch4 = ch4_model.predict(X_future)\n",
    "predicted_future_ch4"
   ]
  },
  {
   "cell_type": "code",
   "execution_count": 48,
   "metadata": {},
   "outputs": [
    {
     "data": {
      "text/html": [
       "<div>\n",
       "<style scoped>\n",
       "    .dataframe tbody tr th:only-of-type {\n",
       "        vertical-align: middle;\n",
       "    }\n",
       "\n",
       "    .dataframe tbody tr th {\n",
       "        vertical-align: top;\n",
       "    }\n",
       "\n",
       "    .dataframe thead th {\n",
       "        text-align: right;\n",
       "    }\n",
       "</style>\n",
       "<table border=\"1\" class=\"dataframe\">\n",
       "  <thead>\n",
       "    <tr style=\"text-align: right;\">\n",
       "      <th></th>\n",
       "      <th>Unnamed: 0</th>\n",
       "      <th>Year</th>\n",
       "      <th>Mean Nitrous Oxide Concentration</th>\n",
       "      <th>Mean Carbon Dioxide Concentration</th>\n",
       "      <th>Mean Methane Concentration</th>\n",
       "      <th>Mean cumulative mass balance of glaciers</th>\n",
       "      <th>Precipitation Anomaly</th>\n",
       "      <th>Mean Adjusted Sea Level (inches)</th>\n",
       "      <th>Sea Temperature Anomaly</th>\n",
       "      <th>Earth Surface Temperature Anomaly (land and ocean)</th>\n",
       "    </tr>\n",
       "  </thead>\n",
       "  <tbody>\n",
       "    <tr>\n",
       "      <th>0</th>\n",
       "      <td>0</td>\n",
       "      <td>1964</td>\n",
       "      <td>291.2</td>\n",
       "      <td>319.620000</td>\n",
       "      <td>1260.30</td>\n",
       "      <td>-2.545</td>\n",
       "      <td>-0.041776</td>\n",
       "      <td>4.169291</td>\n",
       "      <td>-0.546</td>\n",
       "      <td>-0.252</td>\n",
       "    </tr>\n",
       "    <tr>\n",
       "      <th>1</th>\n",
       "      <td>1</td>\n",
       "      <td>1967</td>\n",
       "      <td>291.5</td>\n",
       "      <td>322.180000</td>\n",
       "      <td>1284.03</td>\n",
       "      <td>-2.662</td>\n",
       "      <td>-0.096894</td>\n",
       "      <td>4.452756</td>\n",
       "      <td>-0.420</td>\n",
       "      <td>0.000</td>\n",
       "    </tr>\n",
       "    <tr>\n",
       "      <th>2</th>\n",
       "      <td>2</td>\n",
       "      <td>1970</td>\n",
       "      <td>293.8</td>\n",
       "      <td>325.620315</td>\n",
       "      <td>1351.70</td>\n",
       "      <td>-3.519</td>\n",
       "      <td>-0.070516</td>\n",
       "      <td>4.677165</td>\n",
       "      <td>-0.294</td>\n",
       "      <td>0.108</td>\n",
       "    </tr>\n",
       "    <tr>\n",
       "      <th>3</th>\n",
       "      <td>3</td>\n",
       "      <td>1971</td>\n",
       "      <td>294.0</td>\n",
       "      <td>326.320000</td>\n",
       "      <td>1357.20</td>\n",
       "      <td>-3.758</td>\n",
       "      <td>0.032240</td>\n",
       "      <td>4.881890</td>\n",
       "      <td>-0.510</td>\n",
       "      <td>-0.126</td>\n",
       "    </tr>\n",
       "    <tr>\n",
       "      <th>4</th>\n",
       "      <td>4</td>\n",
       "      <td>1972</td>\n",
       "      <td>295.6</td>\n",
       "      <td>328.742110</td>\n",
       "      <td>1380.10</td>\n",
       "      <td>-4.016</td>\n",
       "      <td>-0.772485</td>\n",
       "      <td>5.240157</td>\n",
       "      <td>-0.186</td>\n",
       "      <td>0.072</td>\n",
       "    </tr>\n",
       "  </tbody>\n",
       "</table>\n",
       "</div>"
      ],
      "text/plain": [
       "   Unnamed: 0  Year  Mean Nitrous Oxide Concentration  \\\n",
       "0           0  1964                             291.2   \n",
       "1           1  1967                             291.5   \n",
       "2           2  1970                             293.8   \n",
       "3           3  1971                             294.0   \n",
       "4           4  1972                             295.6   \n",
       "\n",
       "   Mean Carbon Dioxide Concentration  Mean Methane Concentration  \\\n",
       "0                         319.620000                     1260.30   \n",
       "1                         322.180000                     1284.03   \n",
       "2                         325.620315                     1351.70   \n",
       "3                         326.320000                     1357.20   \n",
       "4                         328.742110                     1380.10   \n",
       "\n",
       "   Mean cumulative mass balance of glaciers  Precipitation Anomaly  \\\n",
       "0                                    -2.545              -0.041776   \n",
       "1                                    -2.662              -0.096894   \n",
       "2                                    -3.519              -0.070516   \n",
       "3                                    -3.758               0.032240   \n",
       "4                                    -4.016              -0.772485   \n",
       "\n",
       "   Mean Adjusted Sea Level (inches)  Sea Temperature Anomaly  \\\n",
       "0                          4.169291                   -0.546   \n",
       "1                          4.452756                   -0.420   \n",
       "2                          4.677165                   -0.294   \n",
       "3                          4.881890                   -0.510   \n",
       "4                          5.240157                   -0.186   \n",
       "\n",
       "   Earth Surface Temperature Anomaly (land and ocean)  \n",
       "0                                             -0.252   \n",
       "1                                              0.000   \n",
       "2                                              0.108   \n",
       "3                                             -0.126   \n",
       "4                                              0.072   "
      ]
     },
     "execution_count": 48,
     "metadata": {},
     "output_type": "execute_result"
    }
   ],
   "source": [
    "seaLevel_df = pd.read_csv(\"Merged_Target_Glaciers.csv\")\n",
    "seaLevel_df.head()"
   ]
  },
  {
   "cell_type": "code",
   "execution_count": 50,
   "metadata": {},
   "outputs": [
    {
     "data": {
      "text/html": [
       "<div>\n",
       "<style scoped>\n",
       "    .dataframe tbody tr th:only-of-type {\n",
       "        vertical-align: middle;\n",
       "    }\n",
       "\n",
       "    .dataframe tbody tr th {\n",
       "        vertical-align: top;\n",
       "    }\n",
       "\n",
       "    .dataframe thead th {\n",
       "        text-align: right;\n",
       "    }\n",
       "</style>\n",
       "<table border=\"1\" class=\"dataframe\">\n",
       "  <thead>\n",
       "    <tr style=\"text-align: right;\">\n",
       "      <th></th>\n",
       "      <th>Year</th>\n",
       "      <th>Precipitation Anomaly</th>\n",
       "    </tr>\n",
       "  </thead>\n",
       "  <tbody>\n",
       "    <tr>\n",
       "      <th>0</th>\n",
       "      <td>1964</td>\n",
       "      <td>-0.041776</td>\n",
       "    </tr>\n",
       "    <tr>\n",
       "      <th>1</th>\n",
       "      <td>1967</td>\n",
       "      <td>-0.096894</td>\n",
       "    </tr>\n",
       "    <tr>\n",
       "      <th>2</th>\n",
       "      <td>1970</td>\n",
       "      <td>-0.070516</td>\n",
       "    </tr>\n",
       "    <tr>\n",
       "      <th>3</th>\n",
       "      <td>1971</td>\n",
       "      <td>0.032240</td>\n",
       "    </tr>\n",
       "    <tr>\n",
       "      <th>4</th>\n",
       "      <td>1972</td>\n",
       "      <td>-0.772485</td>\n",
       "    </tr>\n",
       "  </tbody>\n",
       "</table>\n",
       "</div>"
      ],
      "text/plain": [
       "   Year  Precipitation Anomaly\n",
       "0  1964              -0.041776\n",
       "1  1967              -0.096894\n",
       "2  1970              -0.070516\n",
       "3  1971               0.032240\n",
       "4  1972              -0.772485"
      ]
     },
     "execution_count": 50,
     "metadata": {},
     "output_type": "execute_result"
    }
   ],
   "source": [
    "precipitation_df = seaLevel_df[['Year','Precipitation Anomaly']]\n",
    "precipitation_df.head()"
   ]
  },
  {
   "cell_type": "code",
   "execution_count": 54,
   "metadata": {},
   "outputs": [],
   "source": [
    "prec_model = LinearRegression()"
   ]
  },
  {
   "cell_type": "code",
   "execution_count": 58,
   "metadata": {},
   "outputs": [],
   "source": [
    "X = precipitation_df['Year'].values.reshape(-1,1)"
   ]
  },
  {
   "cell_type": "code",
   "execution_count": 52,
   "metadata": {},
   "outputs": [],
   "source": [
    "y = precipitation_df['Precipitation Anomaly']"
   ]
  },
  {
   "cell_type": "code",
   "execution_count": 70,
   "metadata": {},
   "outputs": [
    {
     "data": {
      "text/plain": [
       "LinearRegression()"
      ]
     },
     "execution_count": 70,
     "metadata": {},
     "output_type": "execute_result"
    }
   ],
   "source": [
    "prec_model.fit(X,y)"
   ]
  },
  {
   "cell_type": "code",
   "execution_count": 60,
   "metadata": {},
   "outputs": [
    {
     "name": "stdout",
     "output_type": "stream",
     "text": [
      "Model's formula: y = -9.827822958578155 + 0.00502766414255854*X\n"
     ]
    }
   ],
   "source": [
    "# Display the model's best fit line formula\n",
    "print(f\"Model's formula: y = {prec_model.intercept_} + {prec_model.coef_[0]}*X\")"
   ]
  },
  {
   "cell_type": "code",
   "execution_count": 68,
   "metadata": {},
   "outputs": [],
   "source": [
    "predicted_y_values = ch4_model.predict(X)"
   ]
  },
  {
   "cell_type": "code",
   "execution_count": 71,
   "metadata": {},
   "outputs": [
    {
     "name": "stdout",
     "output_type": "stream",
     "text": [
      "Precipitation Model\n",
      "The score is 0.014600012833945297.\n",
      "The mean squared error is 2798485.3463339545.\n",
      "The root mean squared error is 1672.867402496072.\n",
      "The standard deviation is 0.636201110530651.\n"
     ]
    }
   ],
   "source": [
    "# Compute the metrics for the linear regression model\n",
    "score = prec_model.score(X, y, sample_weight=None)\n",
    "mse = mean_squared_error(y, predicted_y_values)\n",
    "rmse = np.sqrt(mse)\n",
    "std = np.std(y)\n",
    "\n",
    "# Print releveant metrics.\n",
    "print(\"Precipitation Model\")\n",
    "print(f\"The score is {score}.\")\n",
    "print(f\"The mean squared error is {mse}.\")\n",
    "print(f\"The root mean squared error is {rmse}.\")\n",
    "print(f\"The standard deviation is {std}.\")"
   ]
  },
  {
   "cell_type": "code",
   "execution_count": 64,
   "metadata": {},
   "outputs": [
    {
     "data": {
      "text/plain": [
       "array([0.32805861, 0.33308627, 0.33811394, 0.3431416 , 0.34816927,\n",
       "       0.35319693, 0.35822459, 0.36325226, 0.36827992, 0.37330759,\n",
       "       0.37833525, 0.38336291, 0.38839058, 0.39341824, 0.39844591,\n",
       "       0.40347357, 0.40850124, 0.4135289 , 0.41855656, 0.42358423,\n",
       "       0.42861189, 0.43363956, 0.43866722, 0.44369488, 0.44872255,\n",
       "       0.45375021, 0.45877788, 0.46380554, 0.46883321, 0.47386087,\n",
       "       0.47888853])"
      ]
     },
     "execution_count": 64,
     "metadata": {},
     "output_type": "execute_result"
    }
   ],
   "source": [
    "predicted_future_prec = prec_model.predict(X_future)\n",
    "predicted_future_prec"
   ]
  },
  {
   "cell_type": "code",
   "execution_count": 73,
   "metadata": {},
   "outputs": [
    {
     "data": {
      "text/html": [
       "<div>\n",
       "<style scoped>\n",
       "    .dataframe tbody tr th:only-of-type {\n",
       "        vertical-align: middle;\n",
       "    }\n",
       "\n",
       "    .dataframe tbody tr th {\n",
       "        vertical-align: top;\n",
       "    }\n",
       "\n",
       "    .dataframe thead th {\n",
       "        text-align: right;\n",
       "    }\n",
       "</style>\n",
       "<table border=\"1\" class=\"dataframe\">\n",
       "  <thead>\n",
       "    <tr style=\"text-align: right;\">\n",
       "      <th></th>\n",
       "      <th>Year</th>\n",
       "      <th>Precipitation Anomaly</th>\n",
       "    </tr>\n",
       "  </thead>\n",
       "  <tbody>\n",
       "    <tr>\n",
       "      <th>0</th>\n",
       "      <td>2020</td>\n",
       "      <td>0.328059</td>\n",
       "    </tr>\n",
       "    <tr>\n",
       "      <th>1</th>\n",
       "      <td>2021</td>\n",
       "      <td>0.333086</td>\n",
       "    </tr>\n",
       "    <tr>\n",
       "      <th>2</th>\n",
       "      <td>2022</td>\n",
       "      <td>0.338114</td>\n",
       "    </tr>\n",
       "    <tr>\n",
       "      <th>3</th>\n",
       "      <td>2023</td>\n",
       "      <td>0.343142</td>\n",
       "    </tr>\n",
       "    <tr>\n",
       "      <th>4</th>\n",
       "      <td>2024</td>\n",
       "      <td>0.348169</td>\n",
       "    </tr>\n",
       "  </tbody>\n",
       "</table>\n",
       "</div>"
      ],
      "text/plain": [
       "   Year  Precipitation Anomaly\n",
       "0  2020               0.328059\n",
       "1  2021               0.333086\n",
       "2  2022               0.338114\n",
       "3  2023               0.343142\n",
       "4  2024               0.348169"
      ]
     },
     "execution_count": 73,
     "metadata": {},
     "output_type": "execute_result"
    }
   ],
   "source": [
    "predicted_future_prec_df = pd.DataFrame(\n",
    "    {\n",
    "        \"Year\":year_list,\n",
    "        'Precipitation Anomaly':predicted_future_prec\n",
    "    }\n",
    ")\n",
    "predicted_future_prec_df.head()"
   ]
  },
  {
   "cell_type": "code",
   "execution_count": 74,
   "metadata": {},
   "outputs": [
    {
     "data": {
      "text/html": [
       "<div>\n",
       "<style scoped>\n",
       "    .dataframe tbody tr th:only-of-type {\n",
       "        vertical-align: middle;\n",
       "    }\n",
       "\n",
       "    .dataframe tbody tr th {\n",
       "        vertical-align: top;\n",
       "    }\n",
       "\n",
       "    .dataframe thead th {\n",
       "        text-align: right;\n",
       "    }\n",
       "</style>\n",
       "<table border=\"1\" class=\"dataframe\">\n",
       "  <thead>\n",
       "    <tr style=\"text-align: right;\">\n",
       "      <th></th>\n",
       "      <th>Year</th>\n",
       "      <th>Mean Nitrous Oxide Concentration</th>\n",
       "      <th>Mean Carbon Dioxide Concentration</th>\n",
       "      <th>Mean Methane Concentration</th>\n",
       "    </tr>\n",
       "  </thead>\n",
       "  <tbody>\n",
       "    <tr>\n",
       "      <th>0</th>\n",
       "      <td>2020</td>\n",
       "      <td>330.714233</td>\n",
       "      <td>405.576768</td>\n",
       "      <td>1906.690278</td>\n",
       "    </tr>\n",
       "    <tr>\n",
       "      <th>1</th>\n",
       "      <td>2021</td>\n",
       "      <td>331.466061</td>\n",
       "      <td>407.257998</td>\n",
       "      <td>1916.355223</td>\n",
       "    </tr>\n",
       "    <tr>\n",
       "      <th>2</th>\n",
       "      <td>2022</td>\n",
       "      <td>332.217889</td>\n",
       "      <td>408.939228</td>\n",
       "      <td>1926.020169</td>\n",
       "    </tr>\n",
       "    <tr>\n",
       "      <th>3</th>\n",
       "      <td>2023</td>\n",
       "      <td>332.969718</td>\n",
       "      <td>410.620458</td>\n",
       "      <td>1935.685114</td>\n",
       "    </tr>\n",
       "    <tr>\n",
       "      <th>4</th>\n",
       "      <td>2024</td>\n",
       "      <td>333.721546</td>\n",
       "      <td>412.301688</td>\n",
       "      <td>1945.350059</td>\n",
       "    </tr>\n",
       "  </tbody>\n",
       "</table>\n",
       "</div>"
      ],
      "text/plain": [
       "   Year  Mean Nitrous Oxide Concentration  Mean Carbon Dioxide Concentration  \\\n",
       "0  2020                        330.714233                         405.576768   \n",
       "1  2021                        331.466061                         407.257998   \n",
       "2  2022                        332.217889                         408.939228   \n",
       "3  2023                        332.969718                         410.620458   \n",
       "4  2024                        333.721546                         412.301688   \n",
       "\n",
       "   Mean Methane Concentration  \n",
       "0                 1906.690278  \n",
       "1                 1916.355223  \n",
       "2                 1926.020169  \n",
       "3                 1935.685114  \n",
       "4                 1945.350059  "
      ]
     },
     "execution_count": 74,
     "metadata": {},
     "output_type": "execute_result"
    }
   ],
   "source": [
    "future_ghg_df = pd.DataFrame(\n",
    "    {\n",
    "        \"Year\": X_future.reshape(1, -1)[0],\n",
    "        'Mean Nitrous Oxide Concentration':predicted_future_n2o,\n",
    "        'Mean Carbon Dioxide Concentration':predicted_future_co2,\n",
    "        'Mean Methane Concentration':predicted_future_ch4, \n",
    "    }\n",
    ")\n",
    "future_ghg_df.head()"
   ]
  },
  {
   "cell_type": "code",
   "execution_count": 75,
   "metadata": {},
   "outputs": [],
   "source": [
    "future_ghg_df.to_csv(\"Projected_Future_GHG_2020_2050.csv\")\n",
    "predicted_future_prec_df.to_csv(\"predicted_future_prec.csv\")"
   ]
  }
 ],
 "metadata": {
  "kernelspec": {
   "display_name": "base",
   "language": "python",
   "name": "python3"
  },
  "language_info": {
   "codemirror_mode": {
    "name": "ipython",
    "version": 3
   },
   "file_extension": ".py",
   "mimetype": "text/x-python",
   "name": "python",
   "nbconvert_exporter": "python",
   "pygments_lexer": "ipython3",
   "version": "3.9.13"
  },
  "orig_nbformat": 4
 },
 "nbformat": 4,
 "nbformat_minor": 2
}
