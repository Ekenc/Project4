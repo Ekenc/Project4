{
  "nbformat": 4,
  "nbformat_minor": 0,
  "metadata": {
    "colab": {
      "provenance": []
    },
    "kernelspec": {
      "name": "python3",
      "display_name": "Python 3"
    },
    "language_info": {
      "name": "python"
    }
  },
  "cells": [
    {
      "cell_type": "code",
      "execution_count": 3,
      "metadata": {
        "id": "5WSa7E7Ka0C_"
      },
      "outputs": [],
      "source": [
        "# Initial imports\n",
        "import pandas as pd\n",
        "from pathlib import Path\n",
        "from sklearn.ensemble import RandomForestRegressor\n",
        "from sklearn.preprocessing import StandardScaler\n",
        "from sklearn.model_selection import train_test_split\n",
        "from sklearn.metrics import classification_report, mean_absolute_error, mean_squared_error"
      ]
    },
    {
      "cell_type": "code",
      "source": [
        "# Load the data\n",
        "url = \"https://raw.githubusercontent.com/Ekenc/Project4/main/Data/Merged_Target_Glaciers.csv\"\n",
        "df = pd.read_csv(url)\n",
        "\n",
        "# Show DataFrame\n",
        "df.head()"
      ],
      "metadata": {
        "colab": {
          "base_uri": "https://localhost:8080/",
          "height": 268
        },
        "id": "G70Suapta2BY",
        "outputId": "67fbc85a-25ea-4cb3-d893-33bf4d6a8c3f"
      },
      "execution_count": 4,
      "outputs": [
        {
          "output_type": "execute_result",
          "data": {
            "text/plain": [
              "   Unnamed: 0  Year  Mean Nitrous Oxide Concentration  \\\n",
              "0           0  1964                             291.2   \n",
              "1           1  1967                             291.5   \n",
              "2           2  1970                             293.8   \n",
              "3           3  1971                             294.0   \n",
              "4           4  1972                             295.6   \n",
              "\n",
              "   Mean Carbon Dioxide Concentration  Mean Methane Concentration  \\\n",
              "0                         319.620000                     1260.30   \n",
              "1                         322.180000                     1284.03   \n",
              "2                         325.620315                     1351.70   \n",
              "3                         326.320000                     1357.20   \n",
              "4                         328.742110                     1380.10   \n",
              "\n",
              "   Mean cumulative mass balance of glaciers  Precipitation Anomaly  \\\n",
              "0                                    -2.545              -0.041776   \n",
              "1                                    -2.662              -0.096894   \n",
              "2                                    -3.519              -0.070516   \n",
              "3                                    -3.758               0.032240   \n",
              "4                                    -4.016              -0.772485   \n",
              "\n",
              "   Mean Adjusted Sea Level (inches)  Sea Temperature Anomaly  \\\n",
              "0                          4.169291                   -0.546   \n",
              "1                          4.452756                   -0.420   \n",
              "2                          4.677165                   -0.294   \n",
              "3                          4.881890                   -0.510   \n",
              "4                          5.240157                   -0.186   \n",
              "\n",
              "   Earth Surface Temperature Anomaly (land and ocean)  \n",
              "0                                             -0.252   \n",
              "1                                              0.000   \n",
              "2                                              0.108   \n",
              "3                                             -0.126   \n",
              "4                                              0.072   "
            ],
            "text/html": [
              "\n",
              "  <div id=\"df-09774b95-82b5-4132-aafe-d48769b0d1da\">\n",
              "    <div class=\"colab-df-container\">\n",
              "      <div>\n",
              "<style scoped>\n",
              "    .dataframe tbody tr th:only-of-type {\n",
              "        vertical-align: middle;\n",
              "    }\n",
              "\n",
              "    .dataframe tbody tr th {\n",
              "        vertical-align: top;\n",
              "    }\n",
              "\n",
              "    .dataframe thead th {\n",
              "        text-align: right;\n",
              "    }\n",
              "</style>\n",
              "<table border=\"1\" class=\"dataframe\">\n",
              "  <thead>\n",
              "    <tr style=\"text-align: right;\">\n",
              "      <th></th>\n",
              "      <th>Unnamed: 0</th>\n",
              "      <th>Year</th>\n",
              "      <th>Mean Nitrous Oxide Concentration</th>\n",
              "      <th>Mean Carbon Dioxide Concentration</th>\n",
              "      <th>Mean Methane Concentration</th>\n",
              "      <th>Mean cumulative mass balance of glaciers</th>\n",
              "      <th>Precipitation Anomaly</th>\n",
              "      <th>Mean Adjusted Sea Level (inches)</th>\n",
              "      <th>Sea Temperature Anomaly</th>\n",
              "      <th>Earth Surface Temperature Anomaly (land and ocean)</th>\n",
              "    </tr>\n",
              "  </thead>\n",
              "  <tbody>\n",
              "    <tr>\n",
              "      <th>0</th>\n",
              "      <td>0</td>\n",
              "      <td>1964</td>\n",
              "      <td>291.2</td>\n",
              "      <td>319.620000</td>\n",
              "      <td>1260.30</td>\n",
              "      <td>-2.545</td>\n",
              "      <td>-0.041776</td>\n",
              "      <td>4.169291</td>\n",
              "      <td>-0.546</td>\n",
              "      <td>-0.252</td>\n",
              "    </tr>\n",
              "    <tr>\n",
              "      <th>1</th>\n",
              "      <td>1</td>\n",
              "      <td>1967</td>\n",
              "      <td>291.5</td>\n",
              "      <td>322.180000</td>\n",
              "      <td>1284.03</td>\n",
              "      <td>-2.662</td>\n",
              "      <td>-0.096894</td>\n",
              "      <td>4.452756</td>\n",
              "      <td>-0.420</td>\n",
              "      <td>0.000</td>\n",
              "    </tr>\n",
              "    <tr>\n",
              "      <th>2</th>\n",
              "      <td>2</td>\n",
              "      <td>1970</td>\n",
              "      <td>293.8</td>\n",
              "      <td>325.620315</td>\n",
              "      <td>1351.70</td>\n",
              "      <td>-3.519</td>\n",
              "      <td>-0.070516</td>\n",
              "      <td>4.677165</td>\n",
              "      <td>-0.294</td>\n",
              "      <td>0.108</td>\n",
              "    </tr>\n",
              "    <tr>\n",
              "      <th>3</th>\n",
              "      <td>3</td>\n",
              "      <td>1971</td>\n",
              "      <td>294.0</td>\n",
              "      <td>326.320000</td>\n",
              "      <td>1357.20</td>\n",
              "      <td>-3.758</td>\n",
              "      <td>0.032240</td>\n",
              "      <td>4.881890</td>\n",
              "      <td>-0.510</td>\n",
              "      <td>-0.126</td>\n",
              "    </tr>\n",
              "    <tr>\n",
              "      <th>4</th>\n",
              "      <td>4</td>\n",
              "      <td>1972</td>\n",
              "      <td>295.6</td>\n",
              "      <td>328.742110</td>\n",
              "      <td>1380.10</td>\n",
              "      <td>-4.016</td>\n",
              "      <td>-0.772485</td>\n",
              "      <td>5.240157</td>\n",
              "      <td>-0.186</td>\n",
              "      <td>0.072</td>\n",
              "    </tr>\n",
              "  </tbody>\n",
              "</table>\n",
              "</div>\n",
              "      <button class=\"colab-df-convert\" onclick=\"convertToInteractive('df-09774b95-82b5-4132-aafe-d48769b0d1da')\"\n",
              "              title=\"Convert this dataframe to an interactive table.\"\n",
              "              style=\"display:none;\">\n",
              "        \n",
              "  <svg xmlns=\"http://www.w3.org/2000/svg\" height=\"24px\"viewBox=\"0 0 24 24\"\n",
              "       width=\"24px\">\n",
              "    <path d=\"M0 0h24v24H0V0z\" fill=\"none\"/>\n",
              "    <path d=\"M18.56 5.44l.94 2.06.94-2.06 2.06-.94-2.06-.94-.94-2.06-.94 2.06-2.06.94zm-11 1L8.5 8.5l.94-2.06 2.06-.94-2.06-.94L8.5 2.5l-.94 2.06-2.06.94zm10 10l.94 2.06.94-2.06 2.06-.94-2.06-.94-.94-2.06-.94 2.06-2.06.94z\"/><path d=\"M17.41 7.96l-1.37-1.37c-.4-.4-.92-.59-1.43-.59-.52 0-1.04.2-1.43.59L10.3 9.45l-7.72 7.72c-.78.78-.78 2.05 0 2.83L4 21.41c.39.39.9.59 1.41.59.51 0 1.02-.2 1.41-.59l7.78-7.78 2.81-2.81c.8-.78.8-2.07 0-2.86zM5.41 20L4 18.59l7.72-7.72 1.47 1.35L5.41 20z\"/>\n",
              "  </svg>\n",
              "      </button>\n",
              "      \n",
              "  <style>\n",
              "    .colab-df-container {\n",
              "      display:flex;\n",
              "      flex-wrap:wrap;\n",
              "      gap: 12px;\n",
              "    }\n",
              "\n",
              "    .colab-df-convert {\n",
              "      background-color: #E8F0FE;\n",
              "      border: none;\n",
              "      border-radius: 50%;\n",
              "      cursor: pointer;\n",
              "      display: none;\n",
              "      fill: #1967D2;\n",
              "      height: 32px;\n",
              "      padding: 0 0 0 0;\n",
              "      width: 32px;\n",
              "    }\n",
              "\n",
              "    .colab-df-convert:hover {\n",
              "      background-color: #E2EBFA;\n",
              "      box-shadow: 0px 1px 2px rgba(60, 64, 67, 0.3), 0px 1px 3px 1px rgba(60, 64, 67, 0.15);\n",
              "      fill: #174EA6;\n",
              "    }\n",
              "\n",
              "    [theme=dark] .colab-df-convert {\n",
              "      background-color: #3B4455;\n",
              "      fill: #D2E3FC;\n",
              "    }\n",
              "\n",
              "    [theme=dark] .colab-df-convert:hover {\n",
              "      background-color: #434B5C;\n",
              "      box-shadow: 0px 1px 3px 1px rgba(0, 0, 0, 0.15);\n",
              "      filter: drop-shadow(0px 1px 2px rgba(0, 0, 0, 0.3));\n",
              "      fill: #FFFFFF;\n",
              "    }\n",
              "  </style>\n",
              "\n",
              "      <script>\n",
              "        const buttonEl =\n",
              "          document.querySelector('#df-09774b95-82b5-4132-aafe-d48769b0d1da button.colab-df-convert');\n",
              "        buttonEl.style.display =\n",
              "          google.colab.kernel.accessAllowed ? 'block' : 'none';\n",
              "\n",
              "        async function convertToInteractive(key) {\n",
              "          const element = document.querySelector('#df-09774b95-82b5-4132-aafe-d48769b0d1da');\n",
              "          const dataTable =\n",
              "            await google.colab.kernel.invokeFunction('convertToInteractive',\n",
              "                                                     [key], {});\n",
              "          if (!dataTable) return;\n",
              "\n",
              "          const docLinkHtml = 'Like what you see? Visit the ' +\n",
              "            '<a target=\"_blank\" href=https://colab.research.google.com/notebooks/data_table.ipynb>data table notebook</a>'\n",
              "            + ' to learn more about interactive tables.';\n",
              "          element.innerHTML = '';\n",
              "          dataTable['output_type'] = 'display_data';\n",
              "          await google.colab.output.renderOutput(dataTable, element);\n",
              "          const docLink = document.createElement('div');\n",
              "          docLink.innerHTML = docLinkHtml;\n",
              "          element.appendChild(docLink);\n",
              "        }\n",
              "      </script>\n",
              "    </div>\n",
              "  </div>\n",
              "  "
            ]
          },
          "metadata": {},
          "execution_count": 4
        }
      ]
    },
    {
      "cell_type": "code",
      "source": [
        "# Define features set\n",
        "X = df.drop(\"Mean cumulative mass balance of glaciers\", axis = 1)\n",
        "X = X.drop(\"Unnamed: 0\", axis = 1)\n",
        "X.head()\n"
      ],
      "metadata": {
        "colab": {
          "base_uri": "https://localhost:8080/",
          "height": 268
        },
        "id": "MnFyBH89a2Kp",
        "outputId": "9087e660-79da-463a-d287-ce850de08d2b"
      },
      "execution_count": 5,
      "outputs": [
        {
          "output_type": "execute_result",
          "data": {
            "text/plain": [
              "   Year  Mean Nitrous Oxide Concentration  Mean Carbon Dioxide Concentration  \\\n",
              "0  1964                             291.2                         319.620000   \n",
              "1  1967                             291.5                         322.180000   \n",
              "2  1970                             293.8                         325.620315   \n",
              "3  1971                             294.0                         326.320000   \n",
              "4  1972                             295.6                         328.742110   \n",
              "\n",
              "   Mean Methane Concentration  Precipitation Anomaly  \\\n",
              "0                     1260.30              -0.041776   \n",
              "1                     1284.03              -0.096894   \n",
              "2                     1351.70              -0.070516   \n",
              "3                     1357.20               0.032240   \n",
              "4                     1380.10              -0.772485   \n",
              "\n",
              "   Mean Adjusted Sea Level (inches)  Sea Temperature Anomaly  \\\n",
              "0                          4.169291                   -0.546   \n",
              "1                          4.452756                   -0.420   \n",
              "2                          4.677165                   -0.294   \n",
              "3                          4.881890                   -0.510   \n",
              "4                          5.240157                   -0.186   \n",
              "\n",
              "   Earth Surface Temperature Anomaly (land and ocean)  \n",
              "0                                             -0.252   \n",
              "1                                              0.000   \n",
              "2                                              0.108   \n",
              "3                                             -0.126   \n",
              "4                                              0.072   "
            ],
            "text/html": [
              "\n",
              "  <div id=\"df-441371d9-183e-41b3-928b-318fba53f38f\">\n",
              "    <div class=\"colab-df-container\">\n",
              "      <div>\n",
              "<style scoped>\n",
              "    .dataframe tbody tr th:only-of-type {\n",
              "        vertical-align: middle;\n",
              "    }\n",
              "\n",
              "    .dataframe tbody tr th {\n",
              "        vertical-align: top;\n",
              "    }\n",
              "\n",
              "    .dataframe thead th {\n",
              "        text-align: right;\n",
              "    }\n",
              "</style>\n",
              "<table border=\"1\" class=\"dataframe\">\n",
              "  <thead>\n",
              "    <tr style=\"text-align: right;\">\n",
              "      <th></th>\n",
              "      <th>Year</th>\n",
              "      <th>Mean Nitrous Oxide Concentration</th>\n",
              "      <th>Mean Carbon Dioxide Concentration</th>\n",
              "      <th>Mean Methane Concentration</th>\n",
              "      <th>Precipitation Anomaly</th>\n",
              "      <th>Mean Adjusted Sea Level (inches)</th>\n",
              "      <th>Sea Temperature Anomaly</th>\n",
              "      <th>Earth Surface Temperature Anomaly (land and ocean)</th>\n",
              "    </tr>\n",
              "  </thead>\n",
              "  <tbody>\n",
              "    <tr>\n",
              "      <th>0</th>\n",
              "      <td>1964</td>\n",
              "      <td>291.2</td>\n",
              "      <td>319.620000</td>\n",
              "      <td>1260.30</td>\n",
              "      <td>-0.041776</td>\n",
              "      <td>4.169291</td>\n",
              "      <td>-0.546</td>\n",
              "      <td>-0.252</td>\n",
              "    </tr>\n",
              "    <tr>\n",
              "      <th>1</th>\n",
              "      <td>1967</td>\n",
              "      <td>291.5</td>\n",
              "      <td>322.180000</td>\n",
              "      <td>1284.03</td>\n",
              "      <td>-0.096894</td>\n",
              "      <td>4.452756</td>\n",
              "      <td>-0.420</td>\n",
              "      <td>0.000</td>\n",
              "    </tr>\n",
              "    <tr>\n",
              "      <th>2</th>\n",
              "      <td>1970</td>\n",
              "      <td>293.8</td>\n",
              "      <td>325.620315</td>\n",
              "      <td>1351.70</td>\n",
              "      <td>-0.070516</td>\n",
              "      <td>4.677165</td>\n",
              "      <td>-0.294</td>\n",
              "      <td>0.108</td>\n",
              "    </tr>\n",
              "    <tr>\n",
              "      <th>3</th>\n",
              "      <td>1971</td>\n",
              "      <td>294.0</td>\n",
              "      <td>326.320000</td>\n",
              "      <td>1357.20</td>\n",
              "      <td>0.032240</td>\n",
              "      <td>4.881890</td>\n",
              "      <td>-0.510</td>\n",
              "      <td>-0.126</td>\n",
              "    </tr>\n",
              "    <tr>\n",
              "      <th>4</th>\n",
              "      <td>1972</td>\n",
              "      <td>295.6</td>\n",
              "      <td>328.742110</td>\n",
              "      <td>1380.10</td>\n",
              "      <td>-0.772485</td>\n",
              "      <td>5.240157</td>\n",
              "      <td>-0.186</td>\n",
              "      <td>0.072</td>\n",
              "    </tr>\n",
              "  </tbody>\n",
              "</table>\n",
              "</div>\n",
              "      <button class=\"colab-df-convert\" onclick=\"convertToInteractive('df-441371d9-183e-41b3-928b-318fba53f38f')\"\n",
              "              title=\"Convert this dataframe to an interactive table.\"\n",
              "              style=\"display:none;\">\n",
              "        \n",
              "  <svg xmlns=\"http://www.w3.org/2000/svg\" height=\"24px\"viewBox=\"0 0 24 24\"\n",
              "       width=\"24px\">\n",
              "    <path d=\"M0 0h24v24H0V0z\" fill=\"none\"/>\n",
              "    <path d=\"M18.56 5.44l.94 2.06.94-2.06 2.06-.94-2.06-.94-.94-2.06-.94 2.06-2.06.94zm-11 1L8.5 8.5l.94-2.06 2.06-.94-2.06-.94L8.5 2.5l-.94 2.06-2.06.94zm10 10l.94 2.06.94-2.06 2.06-.94-2.06-.94-.94-2.06-.94 2.06-2.06.94z\"/><path d=\"M17.41 7.96l-1.37-1.37c-.4-.4-.92-.59-1.43-.59-.52 0-1.04.2-1.43.59L10.3 9.45l-7.72 7.72c-.78.78-.78 2.05 0 2.83L4 21.41c.39.39.9.59 1.41.59.51 0 1.02-.2 1.41-.59l7.78-7.78 2.81-2.81c.8-.78.8-2.07 0-2.86zM5.41 20L4 18.59l7.72-7.72 1.47 1.35L5.41 20z\"/>\n",
              "  </svg>\n",
              "      </button>\n",
              "      \n",
              "  <style>\n",
              "    .colab-df-container {\n",
              "      display:flex;\n",
              "      flex-wrap:wrap;\n",
              "      gap: 12px;\n",
              "    }\n",
              "\n",
              "    .colab-df-convert {\n",
              "      background-color: #E8F0FE;\n",
              "      border: none;\n",
              "      border-radius: 50%;\n",
              "      cursor: pointer;\n",
              "      display: none;\n",
              "      fill: #1967D2;\n",
              "      height: 32px;\n",
              "      padding: 0 0 0 0;\n",
              "      width: 32px;\n",
              "    }\n",
              "\n",
              "    .colab-df-convert:hover {\n",
              "      background-color: #E2EBFA;\n",
              "      box-shadow: 0px 1px 2px rgba(60, 64, 67, 0.3), 0px 1px 3px 1px rgba(60, 64, 67, 0.15);\n",
              "      fill: #174EA6;\n",
              "    }\n",
              "\n",
              "    [theme=dark] .colab-df-convert {\n",
              "      background-color: #3B4455;\n",
              "      fill: #D2E3FC;\n",
              "    }\n",
              "\n",
              "    [theme=dark] .colab-df-convert:hover {\n",
              "      background-color: #434B5C;\n",
              "      box-shadow: 0px 1px 3px 1px rgba(0, 0, 0, 0.15);\n",
              "      filter: drop-shadow(0px 1px 2px rgba(0, 0, 0, 0.3));\n",
              "      fill: #FFFFFF;\n",
              "    }\n",
              "  </style>\n",
              "\n",
              "      <script>\n",
              "        const buttonEl =\n",
              "          document.querySelector('#df-441371d9-183e-41b3-928b-318fba53f38f button.colab-df-convert');\n",
              "        buttonEl.style.display =\n",
              "          google.colab.kernel.accessAllowed ? 'block' : 'none';\n",
              "\n",
              "        async function convertToInteractive(key) {\n",
              "          const element = document.querySelector('#df-441371d9-183e-41b3-928b-318fba53f38f');\n",
              "          const dataTable =\n",
              "            await google.colab.kernel.invokeFunction('convertToInteractive',\n",
              "                                                     [key], {});\n",
              "          if (!dataTable) return;\n",
              "\n",
              "          const docLinkHtml = 'Like what you see? Visit the ' +\n",
              "            '<a target=\"_blank\" href=https://colab.research.google.com/notebooks/data_table.ipynb>data table notebook</a>'\n",
              "            + ' to learn more about interactive tables.';\n",
              "          element.innerHTML = '';\n",
              "          dataTable['output_type'] = 'display_data';\n",
              "          await google.colab.output.renderOutput(dataTable, element);\n",
              "          const docLink = document.createElement('div');\n",
              "          docLink.innerHTML = docLinkHtml;\n",
              "          element.appendChild(docLink);\n",
              "        }\n",
              "      </script>\n",
              "    </div>\n",
              "  </div>\n",
              "  "
            ]
          },
          "metadata": {},
          "execution_count": 5
        }
      ]
    },
    {
      "cell_type": "code",
      "source": [
        "# Define target vector\n",
        "y = df[\"Mean cumulative mass balance of glaciers\"]\n",
        "y[:48]"
      ],
      "metadata": {
        "colab": {
          "base_uri": "https://localhost:8080/"
        },
        "id": "YcmPpwVpa2T1",
        "outputId": "09a01770-26d1-460f-f943-5bbc810e1cf5"
      },
      "execution_count": 6,
      "outputs": [
        {
          "output_type": "execute_result",
          "data": {
            "text/plain": [
              "0     -2.545\n",
              "1     -2.662\n",
              "2     -3.519\n",
              "3     -3.758\n",
              "4     -4.016\n",
              "5     -4.147\n",
              "6     -4.339\n",
              "7     -4.534\n",
              "8     -5.140\n",
              "9     -5.919\n",
              "10    -6.726\n",
              "11    -7.009\n",
              "12    -7.586\n",
              "13    -7.475\n",
              "14    -7.559\n",
              "15    -7.892\n",
              "16    -8.399\n",
              "17    -8.832\n",
              "18    -8.935\n",
              "19    -9.242\n",
              "20    -9.917\n",
              "21   -10.384\n",
              "22   -10.819\n",
              "23   -11.611\n",
              "24   -12.134\n",
              "25   -12.861\n",
              "26   -13.088\n",
              "27   -13.317\n",
              "28   -13.755\n",
              "29   -14.326\n",
              "30   -15.018\n",
              "31   -15.758\n",
              "32   -16.591\n",
              "33   -17.202\n",
              "34   -17.619\n",
              "35   -18.169\n",
              "36   -19.011\n",
              "37   -19.920\n",
              "38   -20.657\n",
              "39   -21.502\n",
              "40   -22.285\n",
              "41   -23.402\n",
              "42   -24.383\n",
              "43   -25.152\n",
              "44   -26.043\n",
              "45   -27.174\n",
              "Name: Mean cumulative mass balance of glaciers, dtype: float64"
            ]
          },
          "metadata": {},
          "execution_count": 6
        }
      ]
    },
    {
      "cell_type": "code",
      "source": [
        "# Splitting into Train and Test sets\n",
        "X_train, X_test, y_train, y_test = train_test_split(X, y, random_state=78)"
      ],
      "metadata": {
        "id": "2PNlTVvNa2XL"
      },
      "execution_count": 7,
      "outputs": []
    },
    {
      "cell_type": "code",
      "source": [
        "# Create the StandardScaler instance\n",
        "scaler = StandardScaler()\n",
        "\n",
        "# Fit the Standard Scaler with the training data\n",
        "X_scaler = scaler.fit(X_train)"
      ],
      "metadata": {
        "id": "VVjIVmPKa2ak"
      },
      "execution_count": 8,
      "outputs": []
    },
    {
      "cell_type": "code",
      "source": [
        "# Scale the training data\n",
        "X_train_scaled = X_scaler.transform(X_train)\n",
        "X_test_scaled = X_scaler.transform(X_test)"
      ],
      "metadata": {
        "id": "ugiTT8Vwa2dr"
      },
      "execution_count": 9,
      "outputs": []
    },
    {
      "cell_type": "code",
      "source": [
        "# Create the random forest classifier instance\n",
        "random_model = RandomForestRegressor(n_estimators=100, random_state=78)"
      ],
      "metadata": {
        "id": "D4hV5j2Wa2gj"
      },
      "execution_count": 10,
      "outputs": []
    },
    {
      "cell_type": "code",
      "source": [
        "# Fit the model \n",
        "random_model = random_model.fit(X_train_scaled, y_train)"
      ],
      "metadata": {
        "id": "O6wxMBGsa2j9"
      },
      "execution_count": 11,
      "outputs": []
    },
    {
      "cell_type": "code",
      "source": [
        "# Making predictions using the testing data\n",
        "predictions = random_model.predict(X_test_scaled)"
      ],
      "metadata": {
        "id": "Dr_T4dxDa2nG"
      },
      "execution_count": 12,
      "outputs": []
    },
    {
      "cell_type": "code",
      "source": [
        "# Calculate the mean squared error, model evaluation\n",
        "print(\n",
        "  'mean_squared_error : ', mean_squared_error(y_test, predictions))\n",
        "print(\n",
        "  'mean_absolute_error : ', mean_absolute_error(y_test, predictions))"
      ],
      "metadata": {
        "colab": {
          "base_uri": "https://localhost:8080/"
        },
        "id": "Ru08soera2px",
        "outputId": "239dcca5-1247-43ed-a5e7-e7b89cf7bc90"
      },
      "execution_count": 13,
      "outputs": [
        {
          "output_type": "stream",
          "name": "stdout",
          "text": [
            "mean_squared_error :  0.11983690525000192\n",
            "mean_absolute_error :  0.2650366666666689\n"
          ]
        }
      ]
    },
    {
      "cell_type": "code",
      "source": [
        "# Compute the model score with training data\n",
        "random_model.score(X_train_scaled, y_train)"
      ],
      "metadata": {
        "colab": {
          "base_uri": "https://localhost:8080/"
        },
        "id": "yTxPactca2tM",
        "outputId": "51e9e060-257d-4f68-a375-fa6698b1f6a0"
      },
      "execution_count": 14,
      "outputs": [
        {
          "output_type": "execute_result",
          "data": {
            "text/plain": [
              "0.9984769666595956"
            ]
          },
          "metadata": {},
          "execution_count": 14
        }
      ]
    },
    {
      "cell_type": "code",
      "source": [
        "# Compute the model score with testing data\n",
        "random_model.score(X_test_scaled, y_test)"
      ],
      "metadata": {
        "colab": {
          "base_uri": "https://localhost:8080/"
        },
        "id": "Z9MKbmeea2wt",
        "outputId": "41c633ea-6497-45be-c93c-0312e502f147"
      },
      "execution_count": 15,
      "outputs": [
        {
          "output_type": "execute_result",
          "data": {
            "text/plain": [
              "0.995715673630794"
            ]
          },
          "metadata": {},
          "execution_count": 15
        }
      ]
    }
  ]
}